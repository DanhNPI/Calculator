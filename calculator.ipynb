{
 "cells": [
  {
   "cell_type": "code",
   "execution_count": 1,
   "metadata": {},
   "outputs": [],
   "source": [
    "from tkinter import *\n",
    "import tkinter as tk\n",
    "\n",
    "window = tk.Tk()\n",
    "window.title('Calculator')\n",
    "window.geometry('300x330')\n",
    "window.resizable(0,0)\n",
    "window.eval('tk::PlaceWindow . center')\n",
    "\n",
    "#Tạo màn hình\n",
    "display = Frame(window, width=300, height=60, highlightthickness=1, highlightbackground='Black').grid(column=0, columnspan=5)\n",
    "\n",
    "#Tạo nút bấm\n",
    "btnClear = Button(window, width=6, height=2,text=\"MC\").grid(column=0, row=1)\n",
    "btnMR = Button(window, width=6, height=2,text=\"MR\").grid(column=1, row=1)\n",
    "btnMS = Button(window, width=6, height=2,text=\"MS\").grid(column=2, row=1)\n",
    "btnMpls = Button(window, width=6, height=2,text=\"M+\").grid(column=3, row=1)\n",
    "btnMinus = Button(window, width=6, height=2,text=\"M-\").grid(column=4, row=1)\n",
    "\n",
    "btnArrow = Button(window,width=6, height=2,text=\"<-\").grid(column=0, row=2)\n",
    "btnCE = Button(window, width=6, height=2,text=\"CE\").grid(column=1, row=2)\n",
    "btnC = Button(window, width=6, height=2,text=\"C\").grid(column=2, row=2)\n",
    "btnPlusMinus = Button(window, width=6, height=2,text=\"±\").grid(column=3, row=2)\n",
    "btnSqrt = Button(window, width=6, height=2,text=\"√\").grid(column=4, row=2)\n",
    "\n",
    "btn7 = Button(window, width=6, height=2,text=\"7\").grid(column=0, row=3)\n",
    "btn8 = Button(window, width=6, height=2,text=\"8\").grid(column=1, row=3)\n",
    "btn9 = Button(window, width=6, height=2,text=\"9\").grid(column=2, row=3)\n",
    "btnDiv = Button(window, width=6, height=2,text=\"/\").grid(column=3, row=3)\n",
    "btnPer = Button(window, width=6, height=2,text=\"%\").grid(column=4, row=3)\n",
    "\n",
    "btn4 = Button(window, width=6, height=2,text=\"4\").grid(column=0, row=4)\n",
    "btn5 = Button(window, width=6, height=2,text=\"5\").grid(column=1, row=4)\n",
    "btn6 = Button(window, width=6, height=2,text=\"6\").grid(column=2, row=4)\n",
    "btnMul = Button(window, width=6, height=2,text=\"*\").grid(column=3, row=4)\n",
    "btnFrac = Button(window, width=6, height=2,text=\"1/x\").grid(column=4, row=4)\n",
    "\n",
    "btn1 = Button(window, width=6, height=2,text=\"1\").grid(column=0, row=5)\n",
    "btn2 = Button(window, width=6, height=2,text=\"2\").grid(column=1, row=5)\n",
    "btn3 = Button(window, width=6, height=2,text=\"3\").grid(column=2, row=5)\n",
    "btnAbs = Button(window, width=6, height=2,text=\"-\").grid(column=3, row=5)\n",
    "btnEqual = Button(window, width=6, height=5,text=\"=\").grid(column=4, row=5, rowspan=2)\n",
    "\n",
    "btn0 = Button(window, width=15, height=2,text=\"0\").grid(row=6, columnspan=2)\n",
    "btnPoint = Button(window, width=6, height=2,text=\".\").grid(column=2, row=6)\n",
    "btnPlus = Button(window, width=6, height=2,text=\"+\").grid(column=3, row=6)\n",
    "\n",
    "window.mainloop()"
   ]
  }
 ],
 "metadata": {
  "interpreter": {
   "hash": "41cedb187d78d81e20b9634a9e1e717e0ac926d1a4a4ecd20da710c9472f453b"
  },
  "kernelspec": {
   "display_name": "Python 3.10.2 64-bit",
   "language": "python",
   "name": "python3"
  },
  "language_info": {
   "codemirror_mode": {
    "name": "ipython",
    "version": 3
   },
   "file_extension": ".py",
   "mimetype": "text/x-python",
   "name": "python",
   "nbconvert_exporter": "python",
   "pygments_lexer": "ipython3",
   "version": "3.10.2"
  },
  "orig_nbformat": 4
 },
 "nbformat": 4,
 "nbformat_minor": 2
}
